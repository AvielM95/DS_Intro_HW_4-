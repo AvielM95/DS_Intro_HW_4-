{
 "cells": [
  {
   "cell_type": "markdown",
   "id": "35621705",
   "metadata": {},
   "source": [
    "Assignment4\n"
   ]
  },
  {
   "cell_type": "code",
   "execution_count": 10,
   "id": "b6d38130",
   "metadata": {},
   "outputs": [
    {
     "name": "stdout",
     "output_type": "stream",
     "text": [
      "{'Istanbul': ('1,809 km', '20 hours 35 mins', {'lat': 41.0082376, 'lng': 28.9783589}), 'Amsterdam': ('4,528 km', '1 day 23 hours', {'lat': 52.3675734, 'lng': 4.9041389}), 'Valletta': ('3,789 km', '2 days 3 hours', {'lat': 35.8989085, 'lng': 14.5145528}), 'Basel': ('4,091 km', '1 day 20 hours', {'lat': 47.5595986, 'lng': 7.5885761}), 'Doha': ('2,105 km', '21 hours 56 mins', {'lat': 25.2854473, 'lng': 51.53103979999999})}\n"
     ]
    }
   ],
   "source": [
    "\n",
    "\n",
    "api_key=\n",
    "\n",
    "import requests\n",
    "\n",
    "\n",
    "file = open(\"C:\\\\Users\\\\aviel\\\\Python\\\\Homework\\\\dests.txt\")\n",
    "dic = dict()\n",
    "for i in file:\n",
    "    i = i.strip()\n",
    "    destinations= i\n",
    "    address= i\n",
    "\n",
    "    origins = \"Jerusalem\"\n",
    "    url2 = \"https://maps.googleapis.com/maps/api/distancematrix/json?destinations=%s&origins=%s&key=%s\" %   (destinations,origins,api_key)\n",
    "  \n",
    "\n",
    "\n",
    "    try:\n",
    "        response2 = requests.get(url2)\n",
    "        if not response2.status_code == 200:\n",
    "            print(\"HTTP error\",response2.status_code)\n",
    "        else:\n",
    "            try:\n",
    "               \n",
    "                response_data2 = response2.json()\n",
    "                dis = (response_data2['rows'][0]['elements'][0]['distance']['text'])\n",
    "                time = (response_data2['rows'][0]['elements'][0]['duration']['text'])\n",
    "                \n",
    "                \n",
    "            except:\n",
    "                print(\"Response not in valid JSON format\")\n",
    "    except:\n",
    "        print(\"Something went wrong with requests.get\")\n",
    "\n",
    "\n",
    "    \n",
    "    url=\"https://maps.googleapis.com/maps/api/geocode/json?address=%s&key=%s\" % (address,api_key)\n",
    "   \n",
    "    try:\n",
    "        response = requests.get(url)\n",
    "        if not response.status_code == 200:\n",
    "            print(\"HTTP error\",response.status_code)\n",
    "        else:\n",
    "                try:\n",
    "                    response_data = response.json()\n",
    "                    lat_long=(response_data['results'][0]['geometry']['location'])\n",
    "                    dic[i]= dis,time,lat_long\n",
    "                   \n",
    "\n",
    "                    \n",
    "                except:\n",
    "                    print(\"Response not in valid JSON format\")\n",
    "    except:\n",
    "        print(\"Something went wrong with requests.get\")\n",
    "\n",
    "\n",
    "print((dic))\n",
    "\n",
    "\n",
    "\n",
    "\n",
    "\n",
    "\n",
    "\n",
    "\n",
    "\n",
    "\n"
   ]
  },
  {
   "cell_type": "code",
   "execution_count": 8,
   "id": "d1184444",
   "metadata": {},
   "outputs": [
    {
     "name": "stdout",
     "output_type": "stream",
     "text": [
      "\n",
      "Istanbul\n",
      "Distance from Jerusalem : 1,809 km\n",
      "time of travel from Jerusalem to destination : 20 hours 35 mins\n",
      "lat_long per place : {'lat': 41.0082376, 'lng': 28.9783589}\n",
      "\n",
      "Amsterdam\n",
      "Distance from Jerusalem : 4,528 km\n",
      "time of travel from Jerusalem to destination : 1 day 23 hours\n",
      "lat_long per place : {'lat': 52.3675734, 'lng': 4.9041389}\n",
      "\n",
      "Valletta\n",
      "Distance from Jerusalem : 3,789 km\n",
      "time of travel from Jerusalem to destination : 2 days 3 hours\n",
      "lat_long per place : {'lat': 35.8989085, 'lng': 14.5145528}\n",
      "\n",
      "Basel\n",
      "Distance from Jerusalem : 4,091 km\n",
      "time of travel from Jerusalem to destination : 1 day 20 hours\n",
      "lat_long per place : {'lat': 47.5595986, 'lng': 7.5885761}\n",
      "\n",
      "Doha\n",
      "Distance from Jerusalem : 2,105 km\n",
      "time of travel from Jerusalem to destination : 21 hours 56 mins\n",
      "lat_long per place : {'lat': 25.2854473, 'lng': 51.53103979999999}\n",
      "\n"
     ]
    }
   ],
   "source": [
    "print(\"\")\n",
    "for i in dic:\n",
    "    print(i)\n",
    "    print('Distance from Jerusalem :',dic[i][0])\n",
    "    print('time of travel from Jerusalem to destination :', dic[i][1])  \n",
    "    print('lat_long per place :', dic[i][2])\n",
    "    print(\"\")\n"
   ]
  },
  {
   "cell_type": "code",
   "execution_count": 9,
   "id": "198ced83",
   "metadata": {},
   "outputs": [
    {
     "name": "stdout",
     "output_type": "stream",
     "text": [
      "['Amsterdam', 'Basel', 'Valletta']\n"
     ]
    }
   ],
   "source": [
    "dic2 = dict()\n",
    "for i in dic:\n",
    "    x = dic[i][0]\n",
    "    temp = \"\"\n",
    "    for j in x:\n",
    "        if j.isdigit():\n",
    "            temp = temp+j  \n",
    "    dic2[i]=int(temp)\n",
    "       \n",
    "keys = sorted(dic2,key =dic2.get,reverse=True )[0:3]\n",
    "print(keys)\n"
   ]
  },
  {
   "cell_type": "code",
   "execution_count": null,
   "id": "f1a90bae",
   "metadata": {},
   "outputs": [],
   "source": []
  },
  {
   "cell_type": "code",
   "execution_count": null,
   "id": "ac1dd568",
   "metadata": {},
   "outputs": [],
   "source": []
  }
 ],
 "metadata": {
  "kernelspec": {
   "display_name": "Python 3 (ipykernel)",
   "language": "python",
   "name": "python3"
  },
  "language_info": {
   "codemirror_mode": {
    "name": "ipython",
    "version": 3
   },
   "file_extension": ".py",
   "mimetype": "text/x-python",
   "name": "python",
   "nbconvert_exporter": "python",
   "pygments_lexer": "ipython3",
   "version": "3.9.7"
  }
 },
 "nbformat": 4,
 "nbformat_minor": 5
}
